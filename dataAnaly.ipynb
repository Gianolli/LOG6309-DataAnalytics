{
  "nbformat": 4,
  "nbformat_minor": 0,
  "metadata": {
    "colab": {
      "provenance": [],
      "authorship_tag": "ABX9TyPmlnlPF50alE3r4BhykxjP"
    },
    "kernelspec": {
      "name": "python3",
      "display_name": "Python 3"
    },
    "language_info": {
      "name": "python"
    }
  },
  "cells": [
    {
      "cell_type": "code",
      "execution_count": null,
      "metadata": {
        "id": "Yz-LnksVFkb2"
      },
      "outputs": [],
      "source": [
        "# Shapiro test\n",
        "import io\n",
        "import pandas as pd\n",
        "from scipy.stats import shapiro\n",
        "\n",
        "\n",
        "original = pd.read_csv(io.BytesIO(uploaded['original.csv']))\n",
        "new = pd.read_csv(io.BytesIO(uploaded['new_version_perf.csv']))\n",
        "\n",
        "\n",
        "#perform Shapiro-Wilk test\n",
        "print(\"Shapiro-Wilk test for Original version:\",shapiro(original['TOTAL_CPU']))\n",
        "print(\"Shapiro-Wilk test for New version:\", shapiro(new['TOTAL_CPU']))"
      ]
    },
    {
      "cell_type": "code",
      "source": [
        "# LINE CHART\n",
        "import matplotlib.pyplot as plt, matplotlib.pyplot as plt2\n",
        "import pandas as fich\n",
        "import io\n",
        "\n",
        "\n",
        "original = fich.read_csv(io.BytesIO(uploaded['original.csv']))\n",
        "new = pd.read_csv(io.BytesIO(uploaded['new_version_perf.csv']))\n",
        "plt.plot(original['TIME'], original['TOTAL_CPU'])\n",
        "plt.xlabel(\"Date\")\n",
        "plt.ylabel(\"CPU usage\")\n",
        "plt.title(\"CPU usage over timeframe for Original Version\")\n",
        "plt.show()\n",
        "plt.show()\n",
        "\n",
        "\n",
        "plt2.xlabel(\"Date\")\n",
        "plt2.ylabel(\"CPU usage\")\n",
        "plt2.title(\"CPU usage over timeframe for New Version\")\n",
        "plt2.plot(new['TIME'], new['TOTAL_CPU'])\n",
        "plt2.show()"
      ],
      "metadata": {
        "id": "Vp2lS68SFpgm"
      },
      "execution_count": null,
      "outputs": []
    },
    {
      "cell_type": "code",
      "source": [
        "#RANKSUM\n",
        "#import numpy as np\n",
        "from scipy.stats import ranksums\n",
        "import pandas as pd\n",
        "import io\n",
        "\n",
        "\n",
        "original = fich.read_csv(io.BytesIO(uploaded['original.csv']))\n",
        "new = pd.read_csv(io.BytesIO(uploaded['new_version_perf.csv']))\n",
        "\n",
        "\n",
        "sample1 = original['TOTAL_CPU']\n",
        "sample2 = new['TOTAL_CPU']\n",
        "\n",
        "ranksums(sample1, sample2)"
      ],
      "metadata": {
        "id": "tCxVkRGfFyfm"
      },
      "execution_count": null,
      "outputs": []
    },
    {
      "cell_type": "code",
      "source": [
        "!pip install cliffs_delta\n",
        "from cliffs_delta import cliffs_delta\n",
        "import pandas as pd\n",
        "import io\n",
        "\n",
        "original = fich.read_csv(io.BytesIO(uploaded['original.csv']))\n",
        "new = pd.read_csv(io.BytesIO(uploaded['new_version_perf.csv']))\n",
        "\n",
        "cliffs_delta(original['TOTAL_CPU'], new['TOTAL_CPU'])\n",
        "#cliffs_delta(new['TOTAL_CPU'], original['TOTAL_CPU'])"
      ],
      "metadata": {
        "id": "Sa7ybTA3F3nu"
      },
      "execution_count": null,
      "outputs": []
    }
  ]
}